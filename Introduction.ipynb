{
 "cells": [
  {
   "cell_type": "code",
   "execution_count": 1,
   "metadata": {},
   "outputs": [
    {
     "name": "stdout",
     "output_type": "stream",
     "text": [
      "Collecting pylops\n",
      "\u001b[?25l  Downloading https://files.pythonhosted.org/packages/66/55/97ff3ade2299ff0a09a5a104d32897f916299116ae75bc150c0f4c5eb1c7/pylops-1.12.0-py3-none-any.whl (166kB)\n",
      "\u001b[K     |████████████████████████████████| 174kB 6.4MB/s eta 0:00:01\n",
      "\u001b[?25hRequirement already satisfied: numpy>=1.15.0 in /home/jupyterlab/conda/envs/python/lib/python3.6/site-packages (from pylops) (1.19.4)\n",
      "Requirement already satisfied: scipy>=1.4.0 in /home/jupyterlab/conda/envs/python/lib/python3.6/site-packages (from pylops) (1.5.4)\n",
      "Installing collected packages: pylops\n",
      "Successfully installed pylops-1.12.0\n",
      "Note: you may need to restart the kernel to use updated packages.\n"
     ]
    }
   ],
   "source": [
    "pip install pylops"
   ]
  },
  {
   "cell_type": "markdown",
   "metadata": {},
   "source": [
    "#### Convolution of two arrays\n",
    "\n",
    "####  prove that convolution is commutative"
   ]
  },
  {
   "cell_type": "code",
   "execution_count": 1,
   "metadata": {},
   "outputs": [],
   "source": [
    "import numpy as np\n",
    "f=[1,0,0,0,-2,0,0,0,0,4];\n",
    "g=[0,0,-2,0,0,0,0,0,0,0];"
   ]
  },
  {
   "cell_type": "code",
   "execution_count": 2,
   "metadata": {},
   "outputs": [],
   "source": [
    "h = np.convolve(f,g)"
   ]
  },
  {
   "cell_type": "code",
   "execution_count": 3,
   "metadata": {},
   "outputs": [
    {
     "data": {
      "text/plain": [
       "array([ 0,  0, -2,  0,  0,  0,  4,  0,  0,  0,  0, -8,  0,  0,  0,  0,  0,\n",
       "        0,  0])"
      ]
     },
     "execution_count": 3,
     "metadata": {},
     "output_type": "execute_result"
    }
   ],
   "source": [
    "h\n"
   ]
  },
  {
   "cell_type": "code",
   "execution_count": 4,
   "metadata": {},
   "outputs": [
    {
     "data": {
      "text/plain": [
       "array([ 0,  0, -2,  0,  0,  0,  4,  0,  0,  0,  0, -8,  0,  0,  0,  0,  0,\n",
       "        0,  0])"
      ]
     },
     "execution_count": 4,
     "metadata": {},
     "output_type": "execute_result"
    }
   ],
   "source": [
    "i = np.convolve(g,f)\n",
    "i"
   ]
  },
  {
   "cell_type": "markdown",
   "metadata": {},
   "source": [
    "#### Crosscorrelation is equal to reverse time convolution"
   ]
  },
  {
   "cell_type": "code",
   "execution_count": 5,
   "metadata": {},
   "outputs": [
    {
     "data": {
      "text/plain": [
       "array([ 0,  0,  0,  0,  0,  0,  0, -2,  0,  0,  0,  4,  0,  0,  0,  0, -8,\n",
       "        0,  0])"
      ]
     },
     "execution_count": 5,
     "metadata": {},
     "output_type": "execute_result"
    }
   ],
   "source": [
    "from scipy import signal\n",
    "c = signal.correlate(f,g)\n",
    "c"
   ]
  },
  {
   "cell_type": "code",
   "execution_count": 6,
   "metadata": {},
   "outputs": [],
   "source": [
    "ff_f = f[::-1]\n",
    "c = signal.convolve(ff_f,g)"
   ]
  },
  {
   "cell_type": "code",
   "execution_count": 7,
   "metadata": {},
   "outputs": [
    {
     "data": {
      "text/plain": [
       "array([ 0,  0, -8,  0,  0,  0,  0,  4,  0,  0,  0, -2,  0,  0,  0,  0,  0,\n",
       "        0,  0])"
      ]
     },
     "execution_count": 7,
     "metadata": {},
     "output_type": "execute_result"
    }
   ],
   "source": [
    "c\n"
   ]
  },
  {
   "cell_type": "code",
   "execution_count": 8,
   "metadata": {},
   "outputs": [],
   "source": [
    "gg_g = g[::-1]"
   ]
  },
  {
   "cell_type": "code",
   "execution_count": 9,
   "metadata": {},
   "outputs": [
    {
     "data": {
      "text/plain": [
       "array([ 0,  0,  0,  0,  0,  0,  0, -2,  0,  0,  0,  4,  0,  0,  0,  0, -8,\n",
       "        0,  0])"
      ]
     },
     "execution_count": 9,
     "metadata": {},
     "output_type": "execute_result"
    }
   ],
   "source": [
    "d  = signal.convolve(f,gg_g)\n",
    "d"
   ]
  },
  {
   "cell_type": "markdown",
   "metadata": {},
   "source": [
    "#### Ricker wavelet"
   ]
  },
  {
   "cell_type": "code",
   "execution_count": 10,
   "metadata": {},
   "outputs": [],
   "source": [
    "import matplotlib.pyplot as plt"
   ]
  },
  {
   "cell_type": "code",
   "execution_count": 11,
   "metadata": {},
   "outputs": [],
   "source": [
    "ric = signal.ricker(100,5)"
   ]
  },
  {
   "cell_type": "code",
   "execution_count": 12,
   "metadata": {},
   "outputs": [
    {
     "data": {
      "text/plain": [
       "[<matplotlib.lines.Line2D at 0x7fad057f2da0>]"
      ]
     },
     "execution_count": 12,
     "metadata": {},
     "output_type": "execute_result"
    },
    {
     "data": {
      "image/png": "[encoded data removed]",
      "text/plain": [
       "<Figure size 432x288 with 1 Axes>"
      ]
     },
     "metadata": {
      "needs_background": "light"
     },
     "output_type": "display_data"
    }
   ],
   "source": [
    "plt.figure(figsize=(6,4))\n",
    "plt.plot( ric ,lw=2, color='black', alpha=0.5)\n"
   ]
  },
  {
   "cell_type": "markdown",
   "metadata": {},
   "source": [
    "#### modeling program for a two-layer model that generates the primary reflection, and the 1st- and 2nd-order multiples "
   ]
  },
  {
   "cell_type": "code",
   "execution_count": 120,
   "metadata": {},
   "outputs": [
    {
     "data": {
      "text/plain": [
       "399"
      ]
     },
     "execution_count": 120,
     "metadata": {},
     "output_type": "execute_result"
    }
   ],
   "source": [
    "v1=1.0\n",
    "v2=2.0\n",
    "d=.2725\n",
    "L=1\n",
    "dx=.005\n",
    "x=np.arange(0,L,dx)\n",
    "x1 = np.vectorize(x)\n",
    "dt =0.006\n",
    "nx = len(x)\n",
    "tim = np.arange(0,2.394,0.006)\n",
    "#nx = np.array(nx)\n",
    "#nx = nx[0]\n",
    "nx"
   ]
  },
  {
   "cell_type": "code",
   "execution_count": 121,
   "metadata": {},
   "outputs": [],
   "source": [
    "#define ricker wavelet\n",
    "ric = signal.ricker(200,15)\n",
    "r=(v2-v1)/(v2+v1)\n",
    "r1=r*r\n",
    "r2=r1*r\n",
    "from math import sqrt\n",
    "def timer1(dx,x,dt,d):\n",
    "    xs=(ixs-1)*dx;\n",
    "    return round(sqrt((xs-x)**2+(2*d)**2)/v1/dt)+1;  #Primary Time\n",
    "def timer2(dx,x,dt,d):\n",
    "    xs=(ixs-1)*dx;\n",
    "    return round(sqrt((xs-x)**2+(4*d)**2)/v1/dt)+1; #1st Multiple Time\n",
    "def timer3(dx,x,dt,d):\n",
    "    xs=(ixs-1)*dx;\n",
    "    return round(sqrt((xs-x)**2+(6*d)**2)/v1/dt)+1; #2nd Multiple Time\n",
    "myFn1 = np.vectorize(timer1, excluded=['dx', 'dt', 'd'])\n",
    "myFn2 = np.vectorize(timer2, excluded=['dx', 'dt', 'd'])\n",
    "myFn3 = np.vectorize(timer3, excluded=['dx', 'dt', 'd'])\n",
    "\n",
    "#myFn3(dx,x,dt,d)\n",
    "for ixs in range(0,nx):\n",
    "    xs=(ixs-1)*dx;\n",
    "    f = myFn1(dx,x,dt,d)\n",
    "    f1= myFn2(dx,x,dt,d)\n",
    "    f2 =myFn3(dx,x,dt,d)\n",
    "    \n"
   ]
  },
  {
   "cell_type": "code",
   "execution_count": 122,
   "metadata": {},
   "outputs": [
    {
     "data": {
      "text/plain": [
       "200"
      ]
     },
     "execution_count": 122,
     "metadata": {},
     "output_type": "execute_result"
    }
   ],
   "source": [
    "len(f1)"
   ]
  },
  {
   "cell_type": "code",
   "execution_count": 123,
   "metadata": {},
   "outputs": [],
   "source": [
    "s = []\n",
    "s1 = []\n",
    "s2 = []\n",
    "s3 = []\n",
    "for i in range(0,200):\n",
    "    s1.append(r/f[i]);#Primary\n",
    "    s2.append(-r1/f1[i]); # 1st-order Multiple\n",
    "    s3.append(r2/f2[i]); # 2nd-order Multiple"
   ]
  },
  {
   "cell_type": "code",
   "execution_count": 124,
   "metadata": {},
   "outputs": [
    {
     "data": {
      "text/plain": [
       "[<matplotlib.lines.Line2D at 0x7fad04e87e80>]"
      ]
     },
     "execution_count": 124,
     "metadata": {},
     "output_type": "execute_result"
    },
    {
     "data": {
      "image/png": "[encoded data removed]",
      "text/plain": [
       "<Figure size 432x288 with 1 Axes>"
      ]
     },
     "metadata": {
      "needs_background": "light"
     },
     "output_type": "display_data"
    }
   ],
   "source": [
    "len(s1)\n",
    "plt.plot(s1)"
   ]
  },
  {
   "cell_type": "code",
   "execution_count": 125,
   "metadata": {},
   "outputs": [],
   "source": [
    "#convolve now\n",
    "h = signal.convolve(s1,ric)"
   ]
  },
  {
   "cell_type": "code",
   "execution_count": 126,
   "metadata": {},
   "outputs": [
    {
     "data": {
      "text/plain": [
       "array([-4.73492400e-12, -1.19364200e-11, -2.28636072e-11, -3.93544877e-11,\n",
       "       -6.41138224e-11, -1.01076082e-10, -1.56023707e-10, -2.37314789e-10,\n",
       "       -3.56978257e-10, -5.32327610e-10, -7.88059432e-10, -1.15925812e-09,\n",
       "       -1.69548421e-09, -2.46647990e-09, -3.56978679e-09, -5.14113084e-09,\n",
       "       -7.36848452e-09, -1.05107288e-08, -1.49225746e-08, -2.10874564e-08,\n",
       "       -2.96608625e-08, -4.15267549e-08, -5.78708475e-08, -8.02751641e-08,\n",
       "       -1.10838991e-07, -1.52332875e-07, -2.08393172e-07, -2.83766346e-07,\n",
       "       -3.84613235e-07, -5.18885559e-07, -6.96788384e-07, -9.31343518e-07,\n",
       "       -1.23907079e-06, -1.64080493e-06, -2.16266698e-06, -2.83720883e-06,\n",
       "       -3.70474948e-06, -4.81491986e-06, -6.22842977e-06, -8.01906649e-06,\n",
       "       -1.02759281e-05, -1.31058855e-05, -1.66362570e-05, -2.10176646e-05,\n",
       "       -2.64270264e-05, -3.30706181e-05, -4.11871174e-05, -5.10505203e-05,\n",
       "       -6.29727908e-05, -7.73060845e-05, -9.44443534e-05, -1.14824121e-04,\n",
       "       -1.38924194e-04, -1.67264055e-04, -2.00400682e-04, -2.38923536e-04,\n",
       "       -2.83447466e-04, -3.34603308e-04, -3.93026011e-04, -4.59340145e-04,\n",
       "       -5.34142772e-04, -6.17983699e-04, -7.11343288e-04, -8.14608101e-04,\n",
       "       -9.28044785e-04, -1.05177278e-03, -1.18573652e-03, -1.32967803e-03,\n",
       "       -1.48311084e-03, -1.64529629e-03, -1.81522350e-03, -1.99159396e-03,\n",
       "       -2.17281227e-03, -2.35698385e-03, -2.54192086e-03, -2.72515706e-03,\n",
       "       -2.90397234e-03, -3.07542712e-03, -3.23640685e-03, -3.38367601e-03,\n",
       "       -3.51394101e-03, -3.62392081e-03, -3.71042363e-03, -3.77042792e-03,\n",
       "       -3.80116530e-03, -3.80020288e-03, -3.76552248e-03, -3.69559373e-03,\n",
       "       -3.58943855e-03, -3.44668429e-03, -3.26760322e-03, -3.05313647e-03,\n",
       "       -2.80490084e-03, -2.52517768e-03, -2.21688335e-03, -1.88352165e-03,\n",
       "       -1.52911926e-03, -1.15814571e-03, -7.75420130e-04, -3.86007468e-04,\n",
       "        4.89265940e-06,  3.92061140e-04,  7.70374940e-04,  1.13491953e-03,\n",
       "        1.48109470e-03,  1.80471063e-03,  2.10207129e-03,  2.37004306e-03,\n",
       "        2.60610663e-03,  2.80839126e-03,  2.97569085e-03,  3.10746194e-03,\n",
       "        3.20380470e-03,  3.26542798e-03,  3.29360050e-03,  3.29009033e-03,\n",
       "        3.25709510e-03,  3.19716577e-03,  3.11312660e-03,  3.00799396e-03,\n",
       "        2.88489650e-03,  2.74699910e-03,  2.59743228e-03,  2.43922897e-03,\n",
       "        2.27526965e-03,  2.10823672e-03,  1.94057863e-03,  1.77448370e-03,\n",
       "        1.61186338e-03,  1.45434445e-03,  1.30326928e-03,  1.15970321e-03,\n",
       "        1.02444799e-03,  8.98060003e-04,  7.80872259e-04,  6.73018895e-04,\n",
       "        5.74461159e-04,  4.85013913e-04,  4.04371801e-04,  3.32134367e-04,\n",
       "        2.67829575e-04,  2.10935281e-04,  1.60898383e-04,  1.17151475e-04,\n",
       "        7.91269450e-05,  4.62685646e-05,  1.80406691e-05, -6.06488860e-06,\n",
       "       -2.65238012e-05, -4.37761457e-05, -5.82247423e-05, -7.02347786e-05,\n",
       "       -8.01344524e-05, -8.82164003e-05, -9.47397026e-05, -9.99322781e-05,\n",
       "       -1.03993509e-04, -1.07096961e-04, -1.09393097e-04, -1.11011896e-04,\n",
       "       -1.12065313e-04, -1.12649556e-04, -1.12847134e-04, -1.12728678e-04,\n",
       "       -1.12354540e-04, -1.11776162e-04, -1.11037253e-04, -1.10174775e-04,\n",
       "       -1.09219774e-04, -1.08198063e-04, -1.07130809e-04, -1.06035007e-04,\n",
       "       -1.04923899e-04, -1.03807333e-04, -1.02692080e-04, -1.01582140e-04,\n",
       "       -1.00479019e-04, -9.93820099e-05, -9.82884701e-05, -9.71941001e-05,\n",
       "       -9.60932259e-05, -9.49790837e-05, -9.38441026e-05, -9.26801836e-05,\n",
       "       -9.14789682e-05, -9.02320915e-05, -8.89314145e-05, -8.75692286e-05,\n",
       "       -8.61384291e-05, -8.46326496e-05, -8.30463579e-05, -8.13749069e-05,\n",
       "       -7.96145435e-05, -7.77623732e-05, -7.58162849e-05, -7.37748395e-05,\n",
       "       -7.16371282e-05, -6.94026071e-05, -6.70709174e-05, -6.46416996e-05,\n",
       "       -6.21143990e-05, -5.94881306e-05, -5.67614997e-05, -5.39324948e-05,\n",
       "       -5.09984077e-05, -4.79557929e-05, -4.48004725e-05, -4.15275848e-05,\n",
       "       -3.81316756e-05, -3.46068285e-05, -3.09468262e-05, -2.71453374e-05,\n",
       "       -2.31961163e-05, -1.90932061e-05, -1.48311330e-05, -1.04050797e-05,\n",
       "       -5.81102565e-06, -1.04584352e-06,  3.89265971e-06,  9.00576499e-06,\n",
       "        1.42939354e-05,  1.97569886e-05,  2.53943529e-05,  3.12054111e-05,\n",
       "        3.71899369e-05,  4.33486266e-05,  4.96837320e-05,  5.61998009e-05,\n",
       "        6.29045328e-05,  6.98097633e-05,  7.69325909e-05,  8.42966674e-05,\n",
       "        9.19336755e-05,  9.98850227e-05,  1.08203784e-04,  1.16956932e-04,\n",
       "        1.26227885e-04,  1.36119422e-04,  1.46756987e-04,  1.58292420e-04,\n",
       "        1.70908122e-04,  1.84821660e-04,  2.00290789e-04,  2.17618847e-04,\n",
       "        2.37160425e-04,  2.59327215e-04,  2.84593835e-04,  3.13503447e-04,\n",
       "        3.46672858e-04,  3.84796804e-04,  4.28651008e-04,  4.79093588e-04,\n",
       "        5.37064311e-04,  6.03581202e-04,  6.79733934e-04,  7.66673496e-04,\n",
       "        8.65597602e-04,  9.77731394e-04,  1.10430307e-03,  1.24651420e-03,\n",
       "        1.40550458e-03,  1.58231188e-03,  1.77782621e-03,  1.99274044e-03,\n",
       "        2.22749690e-03,  2.48223196e-03,  2.75671960e-03,  3.05031608e-03,\n",
       "        3.36190749e-03,  3.68986256e-03,  4.03199311e-03,  4.38552449e-03,\n",
       "        4.74707866e-03,  5.11267202e-03,  5.47773022e-03,  5.83712157e-03,\n",
       "        6.18521032e-03,  6.51593035e-03,  6.82287939e-03,  7.09943266e-03,\n",
       "        7.33887455e-03,  7.53454564e-03,  7.68000187e-03,  7.76918174e-03,\n",
       "        7.79657691e-03,  7.75740086e-03,  7.64775014e-03,  7.46475245e-03,\n",
       "        7.20669603e-03,  6.87313497e-03,  6.46496580e-03,  5.98447139e-03,\n",
       "        5.43532921e-03,  4.82258225e-03,  4.15257193e-03,  3.43283396e-03,\n",
       "        2.67195929e-03,  1.87942366e-03,  1.06539041e-03,  2.40492348e-04,\n",
       "       -5.84400829e-04, -1.39842240e-03, -2.19094838e-03, -2.95182979e-03,\n",
       "       -3.67161026e-03, -4.34172252e-03, -4.95465798e-03, -5.50410489e-03,\n",
       "       -5.98505147e-03, -6.39385192e-03, -6.72825457e-03, -6.98739269e-03,\n",
       "       -7.17173973e-03, -7.28303208e-03, -7.32416318e-03, -7.29905381e-03,\n",
       "       -7.21250381e-03, -7.07003076e-03, -6.87770149e-03, -6.64196170e-03,\n",
       "       -6.36946917e-03, -6.06693499e-03, -5.74097704e-03, -5.39798887e-03,\n",
       "       -5.04402643e-03, -4.68471444e-03, -4.32517298e-03, -3.96996457e-03,\n",
       "       -3.62306095e-03, -3.28782844e-03, -2.96703006e-03, -2.66284250e-03,\n",
       "       -2.37688549e-03, -2.11026121e-03, -1.86360128e-03, -1.63711899e-03,\n",
       "       -1.43066447e-03, -1.24378088e-03, -1.07575978e-03, -9.25694280e-04,\n",
       "       -7.92528826e-04, -6.75104608e-04, -5.72200134e-04, -4.82566553e-04,\n",
       "       -4.04957623e-04, -3.38154403e-04, -2.80984896e-04, -2.32339007e-04,\n",
       "       -1.91179235e-04, -1.56547616e-04, -1.27569426e-04, -1.03454163e-04,\n",
       "       -8.34943337e-05, -6.70625038e-05, -5.36070596e-05, -4.26470594e-05,\n",
       "       -3.37665125e-05, -2.66083654e-05, -2.08684245e-05, -1.62893959e-05,\n",
       "       -1.26551791e-05, -9.78551221e-06, -7.53103261e-06, -5.76879030e-06,\n",
       "       -4.39822692e-06, -3.33761618e-06, -2.52094921e-06, -1.89523747e-06,\n",
       "       -1.41820093e-06, -1.05630437e-06, -7.83104975e-07, -5.77873419e-07,\n",
       "       -4.24452637e-07, -3.10321135e-07, -2.25829422e-07, -1.63582854e-07,\n",
       "       -1.17946109e-07, -8.46482094e-08, -6.04697878e-08, -4.29974908e-08,\n",
       "       -3.04317320e-08, -2.14378274e-08, -1.50311524e-08, -1.04891661e-08,\n",
       "       -7.28443699e-09, -5.03390085e-09, -3.46098353e-09, -2.36685465e-09,\n",
       "       -1.60936466e-09, -1.08740831e-09, -7.29441109e-10, -4.85094184e-10,\n",
       "       -3.19086645e-10, -2.06830879e-10, -1.31277843e-10, -8.06650787e-11,\n",
       "       -4.69180615e-11, -2.45215586e-11, -9.72718083e-12])"
      ]
     },
     "execution_count": 126,
     "metadata": {},
     "output_type": "execute_result"
    }
   ],
   "source": [
    "h"
   ]
  },
  {
   "cell_type": "code",
   "execution_count": 129,
   "metadata": {},
   "outputs": [
    {
     "data": {
      "text/plain": [
       "[<matplotlib.lines.Line2D at 0x7fad04dbad68>]"
      ]
     },
     "execution_count": 129,
     "metadata": {},
     "output_type": "execute_result"
    },
    {
     "data": {
      "image/png": "[encoded data removed]",
      "text/plain": [
       "<Figure size 432x288 with 1 Axes>"
      ]
     },
     "metadata": {
      "needs_background": "light"
     },
     "output_type": "display_data"
    }
   ],
   "source": [
    "plt.plot(h)\n"
   ]
  },
  {
   "cell_type": "code",
   "execution_count": null,
   "metadata": {},
   "outputs": [],
   "source": []
  }
 ],
 "metadata": {
  "kernelspec": {
   "display_name": "Python",
   "language": "python",
   "name": "conda-env-python-py"
  },
  "language_info": {
   "codemirror_mode": {
    "name": "ipython",
    "version": 3
   },
   "file_extension": ".py",
   "mimetype": "text/x-python",
   "name": "python",
   "nbconvert_exporter": "python",
   "pygments_lexer": "ipython3",
   "version": "3.6.12"
  }
 },
 "nbformat": 4,
 "nbformat_minor": 4
}
